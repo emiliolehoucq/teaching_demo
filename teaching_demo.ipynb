{
 "cells": [
  {
   "cell_type": "markdown",
   "id": "541e40d1",
   "metadata": {},
   "source": [
    "# Filtering rows of a `Pandas` DataFrame based on logical conditions\n",
    "\n",
    "Emilio Lehoucq<br>\n",
    "06/15/2023\n",
    "\n",
    "## Introduction\n",
    "\n",
    "This tutorial covers how to filter rows of a DataFrame based on logical conditions and is part of the **Introduction to `Pandas` series**. By now, you should know what `Pandas` is, the key data structures, how to read datasets, how to explore the basic information of a DataFrame, and how to select columns.\n",
    "\n",
    "Filtering rows is a core skill in data analysis and data science. You can use it to prepare  data for further analyses and to answer *some* interesting questions. Remember our theme: with simple tools (that YOU are starting to master) you can become a data analyst!\n",
    "\n",
    "We're using the same data as before, which comes from [Evanston's open data portal](https://data.cityofevanston.org/), particularly a list of food establishments with their health inspection scores as of *May 2019* (more information [here](https://data.cityofevanston.org/Health-Human-Services/Food-Establishment-List-with-Current-Inspection-Sc/26s8-qwpa)). Filtering rows will help us answer three questions: 1) How safe is my favorite restaurant? 2) How safe are Evanston food establishments in general? 3) Are there enough safe options around Northwestern's campus?"
   ]
  },
  {
   "cell_type": "code",
   "execution_count": null,
   "id": "b5600170",
   "metadata": {},
   "outputs": [],
   "source": [
    "# Before starting, we're going to import Pandas, as well as read and 'clean' the dataset.\n",
    "# This code is the same as in the previous tutorials.\n",
    "\n",
    "# Importing Pandas:\n",
    "import pandas as pd\n",
    "\n",
    "# Reading the dataset:\n",
    "df = pd.read_csv('data.csv')\n",
    "\n",
    "# Dropping rows with duplicate business names:\n",
    "df = df.drop_duplicates('Business Name')"
   ]
  },
  {
   "cell_type": "markdown",
   "id": "a7f8f8d3",
   "metadata": {},
   "source": [
    "## Filtering rows based on logical conditions\n",
    "\n",
    "There are multiple ways of [filtering rows](https://blog.hubspot.com/website/filter-rows-pandas) in `Pandas`. This tutorial focuses on logical conditions, which are often useful. The next tutorials focus on slicing based on row numbers (aka [`iloc`](https://pandas.pydata.org/docs/reference/api/pandas.DataFrame.iloc.html)) and filtering based on missing values.\n",
    "\n",
    "Let's start with a logical condition on one column to answer our first question, i.e., how safe is my favorite restaurant?"
   ]
  },
  {
   "cell_type": "code",
   "execution_count": null,
   "id": "792def84",
   "metadata": {},
   "outputs": [],
   "source": [
    "df[df['Business Name'] == 'Peppercorns Kitchen']"
   ]
  },
  {
   "cell_type": "markdown",
   "id": "f6431e91",
   "metadata": {},
   "source": [
    "This code has three components:\n",
    "- The first component is selecting the column of interest, as you learned in the previous tutorial: `df['Business Name']`.\n",
    "- The second component is specifying the logical condition: `== 'Peppercorns Kitchen'`.\n",
    "- The third component is filtering rows in the DataFrame based on the logical condition: `df[...]`.\n",
    "\n",
    "Phew! My favorite restaurant got a perfect score :)\n",
    "\n",
    "Let's answer our second question, i.e., how safe are Evanston food establishments in general? Assume we're comfortable with a score of 99:"
   ]
  },
  {
   "cell_type": "code",
   "execution_count": null,
   "id": "8eb2528b",
   "metadata": {},
   "outputs": [],
   "source": [
    "df[df['Inspection Score'] >= 99]"
   ]
  },
  {
   "cell_type": "markdown",
   "id": "0b6fd42d",
   "metadata": {},
   "source": [
    "This code has the same three components as before. Instead of `==`, we're using `>=`. You can also use `<` (\"less than\"), `>` (\"more than\"), `<=` (\"less or equal to\"), and `!=` (\"different than\").\n",
    "\n",
    "305 rows! The large majority of the 390 food establishments (almost 80%). Evanston food establishments seem to be pretty safe.\n",
    "\n",
    "Let's answer our third question, i.e., are there enough safe options around Northwestern's campus? We can focus on the [60201 zip code](https://goo.gl/maps/Nm6UCykbvNyBu9Jm7) and filter rows based on two conditions.\n",
    "\n",
    "Since this question is more complicated, let's write the code piece by piece.\n",
    "\n",
    "First, we can write each of the conditions:"
   ]
  },
  {
   "cell_type": "code",
   "execution_count": null,
   "id": "e29ba4f9",
   "metadata": {},
   "outputs": [],
   "source": [
    "# Condition 1: are there enough safe options?\n",
    "df['Inspection Score'] >= 99"
   ]
  },
  {
   "cell_type": "markdown",
   "id": "ba38ba74",
   "metadata": {},
   "source": [
    "We get a `Pandas` series that we can later use to index the DataFrame.\n",
    "\n",
    "Now let's write the second condition:"
   ]
  },
  {
   "cell_type": "code",
   "execution_count": null,
   "id": "ff082cd8",
   "metadata": {},
   "outputs": [],
   "source": [
    "# Condition 2: around Northwestern's campus\n",
    "df['Zip Code'] == 60201"
   ]
  },
  {
   "cell_type": "markdown",
   "id": "193652be",
   "metadata": {},
   "source": [
    "We get another Series of booleans.\n",
    "\n",
    "We can now combine the two conditions to index the DataFrame:"
   ]
  },
  {
   "cell_type": "code",
   "execution_count": null,
   "id": "a254e2a8",
   "metadata": {},
   "outputs": [],
   "source": [
    "df[df['Inspection Score'] >= 99 & df['Zip Code'] == 60201]"
   ]
  },
  {
   "cell_type": "markdown",
   "id": "3124e5d7",
   "metadata": {},
   "source": [
    "Ooops, we got an error!\n",
    "\n",
    "Don't worry--we just forgot to put parentheses around the conditions.\n",
    "\n",
    "Let's try again adding those parentheses:"
   ]
  },
  {
   "cell_type": "code",
   "execution_count": null,
   "id": "df0d5c36",
   "metadata": {},
   "outputs": [],
   "source": [
    "df[(df['Inspection Score'] >= 99) & (df['Zip Code'] == 60201)]"
   ]
  },
  {
   "cell_type": "markdown",
   "id": "8a38757f",
   "metadata": {},
   "source": [
    "Notice two things about this code:\n",
    "- First, each condition is surrounded by parentheses: `(...)`.\n",
    "- Second, we used `&` to combine the two conditions. `&` stands for AND. You can also use `|`, which represents OR.\n",
    "\n",
    "Wow! We're good. Plenty of safe options around campus ;)\n",
    "\n",
    "#### Beyond the basics: using the [`query` method](https://pandas.pydata.org/docs/reference/api/pandas.DataFrame.query.html)\n",
    "\n",
    "There is another way of answering our questions using `Pandas`. As in many cases with programming, you can pick which implementation you prefer depending on factors such as efficiency or readability. Even if you prefer one implementation over another, it's useful to know all of them in case you encounter them in other people's code.\n",
    "\n",
    "Here's an alternative way to answer our first question (i.e., how safe is my favorite restaurant?):"
   ]
  },
  {
   "cell_type": "code",
   "execution_count": null,
   "id": "78a270db",
   "metadata": {},
   "outputs": [],
   "source": [
    "df.query(\"`Business Name` == 'Peppercorns Kitchen'\")"
   ]
  },
  {
   "cell_type": "markdown",
   "id": "b1471bac",
   "metadata": {},
   "source": [
    "Notice four aspects about this code:\n",
    "- First, query is a method of DataFrames, and you use the syntax `df.query(...)` instead of `df[...]`.\n",
    "- Second, the query goes inside quotation marks: `df.query(\"...\")`.\n",
    "- Third, we're surrounding the column name `Business Name` within backticks ``(`Business Name`)``. This is because the column name has a space between `Business` and `Name`. If the column name was `business_name` we wouldn't need backticks.\n",
    "- Finally, we're specifying the same condition as above: `== 'Peppercorns Kitchen'`.\n",
    "\n",
    "Now, let's use the `query` method to answer our second question (i.e., how safe are Evanston food establishments in general?):"
   ]
  },
  {
   "cell_type": "code",
   "execution_count": null,
   "id": "4a2bbe3b",
   "metadata": {},
   "outputs": [],
   "source": [
    "df.query('`Inspection Score` >= 99')"
   ]
  },
  {
   "cell_type": "markdown",
   "id": "d013fdc2",
   "metadata": {},
   "source": [
    "As you can see, this is the same syntax as before, replacing `==` by `>=`.\n",
    "\n",
    "Finally, let's answer our third question (i.e., are there enough safe options around Northwestern's campus?) using the `query` method:"
   ]
  },
  {
   "cell_type": "code",
   "execution_count": null,
   "id": "7934bafb",
   "metadata": {},
   "outputs": [],
   "source": [
    "df.query(\"`Inspection Score` >= 99 and `Zip Code` == 60201\")"
   ]
  },
  {
   "cell_type": "markdown",
   "id": "d4f7940c",
   "metadata": {},
   "source": [
    "Notice two things about this code:\n",
    "- First, unlike before, we're not surrounding each condition between parentheses.\n",
    "- Second, instead of using `&`, we're using `and`. Of course, you could also use `or` instead of `|`.\n",
    "\n",
    "## Exercises\n",
    "\n",
    "Practice makes perfect... Your time to write code!\n",
    "\n",
    "**Beginner exercises**:\n",
    "\n",
    "<u>Exercise 1</u>: correct the code below, which is intended to check whether Joy Yee's Noodles is safe:<br>\n",
    "`df[df['Business Name'] = \"Joy Yee's Noodles\"]`"
   ]
  },
  {
   "cell_type": "code",
   "execution_count": null,
   "id": "219cdeab",
   "metadata": {},
   "outputs": [],
   "source": []
  },
  {
   "cell_type": "markdown",
   "id": "793b891a",
   "metadata": {},
   "source": [
    "<u>Exercise 2</u>: check whether Bennison's Bakery is safe."
   ]
  },
  {
   "cell_type": "code",
   "execution_count": null,
   "id": "fb0224c1",
   "metadata": {},
   "outputs": [],
   "source": []
  },
  {
   "cell_type": "markdown",
   "id": "d9e949af",
   "metadata": {},
   "source": [
    "<u>Exercise 3</u>: check whether there are enough safe food establishments in south Evanston (zip code 60202)."
   ]
  },
  {
   "cell_type": "code",
   "execution_count": null,
   "id": "cec90831",
   "metadata": {},
   "outputs": [],
   "source": []
  },
  {
   "cell_type": "markdown",
   "id": "cdb4b6e4",
   "metadata": {},
   "source": [
    "**Intermediate exercises**:\n",
    "\n",
    "<u>Exercise 4</u>: Re-write the following code indexing the DataFrame with `df[...]` instead of using the method `query`:<br>\n",
    "``df.query(\"(`Zip Code` == 60203 or `Zip Code` == 60202) and `Inspection Score` >= 99\")``."
   ]
  },
  {
   "cell_type": "code",
   "execution_count": null,
   "id": "56ca5054",
   "metadata": {},
   "outputs": [],
   "source": []
  },
  {
   "cell_type": "markdown",
   "id": "db259569",
   "metadata": {},
   "source": [
    "<u>Exercise 5</u>: check whether a food establishment starting with \"Aloha\" is safe.<br>\n",
    "Hint: you'll want to take a look at the [documentation of the method `startswith`](https://pandas.pydata.org/docs/reference/api/pandas.Series.str.startswith.html)."
   ]
  },
  {
   "cell_type": "code",
   "execution_count": null,
   "id": "b6e02480",
   "metadata": {},
   "outputs": [],
   "source": []
  },
  {
   "cell_type": "markdown",
   "id": "b73ea9d6",
   "metadata": {},
   "source": [
    "**Advanced exercises**:\n",
    "\n",
    "<u>Exercise 6</u>: filter the rows for the food establishments around Northwestern (zip code 60201) or in South Evanston (zip code 60202) that have a score of 100.<br>\n",
    "Hint: you could be interested in the [method `isin`](https://pandas.pydata.org/docs/reference/api/pandas.DataFrame.isin.html)."
   ]
  },
  {
   "cell_type": "code",
   "execution_count": null,
   "id": "b68db48c",
   "metadata": {},
   "outputs": [],
   "source": []
  },
  {
   "cell_type": "markdown",
   "id": "5759b3e3",
   "metadata": {},
   "source": [
    "<u>Exercise 7</u>: filter the rows for the food establishments that are not around Northwestern (zip code 60201) and have a score between 95 and 98.<br>\n",
    "Hint: you may want to use the [method `between`](https://pandas.pydata.org/docs/reference/api/pandas.Series.between.html)."
   ]
  },
  {
   "cell_type": "code",
   "execution_count": null,
   "id": "0bbcf0d8",
   "metadata": {},
   "outputs": [],
   "source": []
  },
  {
   "cell_type": "markdown",
   "id": "3a60f4c9",
   "metadata": {},
   "source": [
    "## Conclusion\n",
    "\n",
    "This tutorial covered how to filter rows of a `Pandas` DataFrame based on logical conditions.\n",
    "\n",
    "Filtering rows helped you move another (big!) step in becoming a data analyst! Now you can prepare data for further analyses, as well as answer *some* interesting questions.\n",
    "\n",
    "The next tutorial covers how to slice DataFrames based on row numbers.\n",
    "\n",
    "## Resources to continue learning\n",
    "\n",
    "This tutorial included some hyperlinks, which you can use to go deeper into the material. You can also take a look at these resources:\n",
    "- \"[Ways to filter Pandas DataFrame by column values](https://www.geeksforgeeks.org/ways-to-filter-pandas-dataframe-by-column-values/)\" by Geeks for Geeks, which is free.\n",
    "- \"[How to Filter Rows Based on Column Values with query function in Pandas?](https://www.geeksforgeeks.org/how-to-filter-rows-based-on-column-values-with-query-function-in-pandas/)\" by Geeks for Geeks, which is free.\n",
    "- \"[Difference between loc() and iloc() in Pandas DataFrame](https://www.geeksforgeeks.org/difference-between-loc-and-iloc-in-pandas-dataframe/)\" by Geek for Geeks, which is free.\n",
    "- \"[Introduction to Pandas and NumPy for Data Analysis](https://www.dataquest.io/course/pandas-fundamentals/)\" by Dataquest, which you can access through Research Computing and Data Services (learn how to get free access [here](https://www.it.northwestern.edu/departments/it-services-support/research/data-science/dataquest-online-courses.html)).\n",
    "\n",
    "## Solutions to the exercises\n",
    "\n",
    "<u>Exercise 1</u>:\n",
    "\n",
    "`df[df['Business Name'] == \"Joy Yee's Noodles\"]`<br>\n",
    "Note: the code only had one `=`, which is for assignment, instead of two `==`, which are to test for equality.\n",
    "\n",
    "<u>Exercise 2</u>:\n",
    "\n",
    "Solution 1:<br>\n",
    "`df[df['Business Name'] == \"Bennison's Bakery\" ]`\n",
    "\n",
    "Solution 2:<br>\n",
    "`string = \"Bennison's Bakery\"`<br>\n",
    "``df.query(\"`Business Name` == @string\")``<br>\n",
    "Note: uses `@string` to refer to the variable defined above. This is a way to deal with the single quotation mark before the `s` (i.e., `'s`), the double quotation marks around the name of the food establishment (i.e., `\"Bennison's Bakery\"`), and the double quotation marks around the query (i.e., `df.query(\"...\")`).\n",
    "    \n",
    "<u>Exercise 3</u>:\n",
    "\n",
    "Solution 1:<br>\n",
    "`df[(df['Inspection Score'] >= 99) & (df['Zip Code'] == 60202)]`\n",
    "\n",
    "Solution 2:<br>\n",
    "``df.query(\"`Inspection Score` >= 99 and `Zip Code` == 60202\")``\n",
    "\n",
    "<u>Exercise 4</u>:\n",
    "\n",
    "`df[((df['Zip Code'] == 60203) | (df['Zip Code'] == 60202)) & (df['Inspection Score'] >= 99)]`\n",
    "Note: notice that we use `|` for OR. Also, each condition is surrounded by parentheses.\n",
    "\n",
    "<u>Exercise 5</u>:\n",
    "\n",
    "`df[df['Business Name'].str.startswith('Aloha')]`\n",
    "\n",
    "<u>Exercise 6</u>:\n",
    "\n",
    "Solution 1:<br>\n",
    "`df[(df['Zip Code'].isin([60201, 60202])) & (df['Inspection Score'] == 100)]`\n",
    "\n",
    "Solution 2:<br>\n",
    "`df[((df['Zip Code'] == 60201) | (df['Zip Code'] == 60202)) & (df['Inspection Score'] == 100)]`\n",
    "\n",
    "Solution 3:<br>\n",
    "``df.query(\"(`Zip Code` == 60201 or `Zip Code` == 60202) and `Inspection Score` == 100\")``<br>\n",
    "Note: notice that we're surrounding the two conditions pertaining to `Zip Code` with parentheses. This is because we want `Pandas` to first evaluate the rows that have one of the two zip codes, and then evaluate the conjunction of those rows with an `` `Inspection Score` == 95``.\n",
    "\n",
    "<u>Exercise 7</u>:\n",
    "\n",
    "Solution 1:<br>\n",
    "`df[(df['Zip Code'] != 60201) & (df['Inspection Score'].between(95, 98))]`\n",
    "\n",
    "Solution 2:<br>\n",
    "``df.query(\"`Zip Code` != 60201 and `Inspection Score` >= 95 and `Inspection Score` <= 98\")``"
   ]
  }
 ],
 "metadata": {
  "kernelspec": {
   "display_name": "Python 3 (ipykernel)",
   "language": "python",
   "name": "python3"
  },
  "language_info": {
   "codemirror_mode": {
    "name": "ipython",
    "version": 3
   },
   "file_extension": ".py",
   "mimetype": "text/x-python",
   "name": "python",
   "nbconvert_exporter": "python",
   "pygments_lexer": "ipython3",
   "version": "3.7.16"
  }
 },
 "nbformat": 4,
 "nbformat_minor": 5
}
